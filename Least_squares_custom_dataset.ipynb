{
 "cells": [
  {
   "cell_type": "code",
   "execution_count": 1,
   "id": "369d0614-06de-45ed-927b-46c962a11bb7",
   "metadata": {},
   "outputs": [
    {
     "name": "stderr",
     "output_type": "stream",
     "text": [
      "/usr/lib/python3/dist-packages/scipy/__init__.py:146: UserWarning: A NumPy version >=1.17.3 and <1.25.0 is required for this version of SciPy (detected version 1.26.1\n",
      "  warnings.warn(f\"A NumPy version >={np_minversion} and <{np_maxversion}\"\n"
     ]
    }
   ],
   "source": [
    "from scipy.optimize import leastsq\n",
    "import scipy as sc\n",
    "import numpy as np\n",
    "import matplotlib.pyplot as plt\n",
    "from sklearn.metrics import mean_squared_error, r2_score\n",
    "import pandas as pd\n",
    "import time\n",
    "np.set_printoptions(suppress=True) # To suppress printing in scientific format "
   ]
  },
  {
   "cell_type": "markdown",
   "id": "f4d28307-b378-4e15-9e2e-9d16fce130db",
   "metadata": {},
   "source": [
    "#### Read image_xy and radar_xy from the csv file"
   ]
  },
  {
   "cell_type": "code",
   "execution_count": 2,
   "id": "30d2bd5b-8d13-492d-9865-78d136ccc7a4",
   "metadata": {},
   "outputs": [
    {
     "data": {
      "text/html": [
       "<div>\n",
       "<style scoped>\n",
       "    .dataframe tbody tr th:only-of-type {\n",
       "        vertical-align: middle;\n",
       "    }\n",
       "\n",
       "    .dataframe tbody tr th {\n",
       "        vertical-align: top;\n",
       "    }\n",
       "\n",
       "    .dataframe thead th {\n",
       "        text-align: right;\n",
       "    }\n",
       "</style>\n",
       "<table border=\"1\" class=\"dataframe\">\n",
       "  <thead>\n",
       "    <tr style=\"text-align: right;\">\n",
       "      <th></th>\n",
       "      <th>x</th>\n",
       "      <th>y</th>\n",
       "    </tr>\n",
       "  </thead>\n",
       "  <tbody>\n",
       "    <tr>\n",
       "      <th>9</th>\n",
       "      <td>2262.2437</td>\n",
       "      <td>1434.0482</td>\n",
       "    </tr>\n",
       "    <tr>\n",
       "      <th>10</th>\n",
       "      <td>2178.6785</td>\n",
       "      <td>1338.0092</td>\n",
       "    </tr>\n",
       "    <tr>\n",
       "      <th>11</th>\n",
       "      <td>2010.3127</td>\n",
       "      <td>1185.6810</td>\n",
       "    </tr>\n",
       "  </tbody>\n",
       "</table>\n",
       "</div>"
      ],
      "text/plain": [
       "            x          y\n",
       "9   2262.2437  1434.0482\n",
       "10  2178.6785  1338.0092\n",
       "11  2010.3127  1185.6810"
      ]
     },
     "execution_count": 2,
     "metadata": {},
     "output_type": "execute_result"
    }
   ],
   "source": [
    "image_xy = pd.read_csv('./image_xy.csv')\n",
    "image_xy.tail(3)"
   ]
  },
  {
   "cell_type": "code",
   "execution_count": 3,
   "id": "7c497028-6687-400d-863b-a440aa45cc51",
   "metadata": {},
   "outputs": [
    {
     "data": {
      "text/html": [
       "<div>\n",
       "<style scoped>\n",
       "    .dataframe tbody tr th:only-of-type {\n",
       "        vertical-align: middle;\n",
       "    }\n",
       "\n",
       "    .dataframe tbody tr th {\n",
       "        vertical-align: top;\n",
       "    }\n",
       "\n",
       "    .dataframe thead th {\n",
       "        text-align: right;\n",
       "    }\n",
       "</style>\n",
       "<table border=\"1\" class=\"dataframe\">\n",
       "  <thead>\n",
       "    <tr style=\"text-align: right;\">\n",
       "      <th></th>\n",
       "      <th>x</th>\n",
       "      <th>y</th>\n",
       "    </tr>\n",
       "  </thead>\n",
       "  <tbody>\n",
       "    <tr>\n",
       "      <th>9</th>\n",
       "      <td>1.567216</td>\n",
       "      <td>3.483018</td>\n",
       "    </tr>\n",
       "    <tr>\n",
       "      <th>10</th>\n",
       "      <td>1.122248</td>\n",
       "      <td>2.691081</td>\n",
       "    </tr>\n",
       "    <tr>\n",
       "      <th>11</th>\n",
       "      <td>0.624305</td>\n",
       "      <td>1.970487</td>\n",
       "    </tr>\n",
       "  </tbody>\n",
       "</table>\n",
       "</div>"
      ],
      "text/plain": [
       "           x         y\n",
       "9   1.567216  3.483018\n",
       "10  1.122248  2.691081\n",
       "11  0.624305  1.970487"
      ]
     },
     "execution_count": 3,
     "metadata": {},
     "output_type": "execute_result"
    }
   ],
   "source": [
    "radar_xy = pd.read_csv('./radar_xy.csv')\n",
    "radar_xy.tail(3)"
   ]
  },
  {
   "cell_type": "markdown",
   "id": "8d42ee42-b03b-4aac-8590-1ff87731446d",
   "metadata": {},
   "source": [
    "#### Define modelling funtions for least squares"
   ]
  },
  {
   "cell_type": "code",
   "execution_count": 4,
   "id": "47bf2bec-252b-46d2-8c97-70b7f7657051",
   "metadata": {},
   "outputs": [],
   "source": [
    "## Least square method \n",
    "# modeling functions\n",
    "def funcLin(x, a,b):\n",
    "    return a*x+b\n",
    "def funcQuad(x, a, b, c):\n",
    "    return a*x**2+b*x+c\n",
    "def funcCube(x, a, b, c, d):\n",
    "    return a*x**3+b*x**2+c*x+d\n",
    "def funcQuar(x, a, b, c, d, e):\n",
    "    return a*x**4+b*x**3+c*x**2+d*x + e"
   ]
  },
  {
   "cell_type": "markdown",
   "id": "2eded4bc-ce33-497a-b7b8-c8a21ac0e6ea",
   "metadata": {},
   "source": [
    "#### Optimize constants for the linear function"
   ]
  },
  {
   "cell_type": "code",
   "execution_count": 5,
   "id": "2bb9b8c6-eb70-448c-bd15-fae754d3900d",
   "metadata": {},
   "outputs": [],
   "source": [
    "radar_x = radar_xy['x'].values\n",
    "radar_y = radar_xy['y'].values\n",
    "\n",
    "image_x = image_xy['x'].values\n",
    "image_y = image_xy['y'].values"
   ]
  },
  {
   "cell_type": "code",
   "execution_count": 6,
   "id": "daef596e-4156-4fce-a63b-dd80072577ca",
   "metadata": {},
   "outputs": [],
   "source": [
    "start = time.perf_counter()\n",
    "constantsLine_x, _ = sc.optimize.curve_fit (funcLin, radar_x, image_x)\n",
    "image_x_reconstructed_1=funcLin(radar_x, *constantsLine_x)\n",
    "constantsLine_y, _ = sc.optimize.curve_fit (funcLin, radar_y, image_y)\n",
    "image_y_reconstructed_1=funcLin(radar_x, *constantsLine_y)\n",
    "end = time.perf_counter()\n",
    "elapsed_time_linear = end-start"
   ]
  },
  {
   "cell_type": "markdown",
   "id": "9d7cbf3c-8b67-44a2-9dde-74c1c8b0f4b7",
   "metadata": {},
   "source": [
    "#### Optimize constants for the quatratic function"
   ]
  },
  {
   "cell_type": "code",
   "execution_count": 7,
   "id": "f3882c1a-3987-4db7-95b1-1f48e779b95a",
   "metadata": {},
   "outputs": [],
   "source": [
    "start = time.perf_counter()\n",
    "constantsLine_x, _ = sc.optimize.curve_fit (funcQuad, radar_x, image_x)\n",
    "image_x_reconstructed_2=funcQuad(radar_x, *constantsLine_x)\n",
    "constantsLine_y, _ = sc.optimize.curve_fit (funcQuad, radar_y, image_y)\n",
    "image_y_reconstructed_2=funcQuad(radar_x, *constantsLine_y)\n",
    "end = time.perf_counter()\n",
    "elapsed_time_quad = end-start"
   ]
  },
  {
   "cell_type": "markdown",
   "id": "37d3c1f9-10a1-48c5-b0f9-20bb2a42bf39",
   "metadata": {},
   "source": [
    "#### Optimize constants for the cubic function"
   ]
  },
  {
   "cell_type": "code",
   "execution_count": 8,
   "id": "4d1cc6c4-f4fc-4214-9337-2b7873ad68dc",
   "metadata": {},
   "outputs": [],
   "source": [
    "start = time.perf_counter()\n",
    "constantsLine_x, _ = sc.optimize.curve_fit (funcCube, radar_x, image_x)\n",
    "image_x_reconstructed_3=funcCube(radar_x, *constantsLine_x)\n",
    "constantsLine_y, _ = sc.optimize.curve_fit (funcCube, radar_y, image_y)\n",
    "image_y_reconstructed_3=funcCube(radar_x, *constantsLine_y)\n",
    "end = time.perf_counter()\n",
    "elapsed_time_cubic = end-start"
   ]
  },
  {
   "cell_type": "markdown",
   "id": "520c38e9-4aa1-4847-a5f1-22476396e12b",
   "metadata": {},
   "source": [
    "#### Optimize constants for the quartic function"
   ]
  },
  {
   "cell_type": "code",
   "execution_count": 9,
   "id": "70fc1a58-e79d-4e93-b4c2-dd4db13ae1fc",
   "metadata": {},
   "outputs": [],
   "source": [
    "start = time.perf_counter()\n",
    "constantsLine_x, _ = sc.optimize.curve_fit (funcQuar, radar_x, image_x)\n",
    "image_x_reconstructed_4=funcQuar(radar_x, *constantsLine_x)\n",
    "constantsLine_y, _ = sc.optimize.curve_fit (funcQuar, radar_y, image_y)\n",
    "image_y_reconstructed_4=funcQuar(radar_x, *constantsLine_y)\n",
    "end = time.perf_counter()\n",
    "elapsed_time_quar = end-start"
   ]
  },
  {
   "cell_type": "markdown",
   "id": "e31be552-37a1-4489-86a3-b9bbc73fd7c1",
   "metadata": {},
   "source": [
    "#### Create a dataframe with reconstructed image coordinates"
   ]
  },
  {
   "cell_type": "code",
   "execution_count": 10,
   "id": "3c9061dd-dd54-4332-9225-7fad45d5cf1d",
   "metadata": {},
   "outputs": [
    {
     "data": {
      "text/html": [
       "<div>\n",
       "<style scoped>\n",
       "    .dataframe tbody tr th:only-of-type {\n",
       "        vertical-align: middle;\n",
       "    }\n",
       "\n",
       "    .dataframe tbody tr th {\n",
       "        vertical-align: top;\n",
       "    }\n",
       "\n",
       "    .dataframe thead th {\n",
       "        text-align: right;\n",
       "    }\n",
       "</style>\n",
       "<table border=\"1\" class=\"dataframe\">\n",
       "  <thead>\n",
       "    <tr style=\"text-align: right;\">\n",
       "      <th></th>\n",
       "      <th>linear_x</th>\n",
       "      <th>linear_y</th>\n",
       "      <th>quadratic_x</th>\n",
       "      <th>quadratic_y</th>\n",
       "      <th>cubic_x</th>\n",
       "      <th>cubic_y</th>\n",
       "      <th>quartic_x</th>\n",
       "      <th>quartic_y</th>\n",
       "    </tr>\n",
       "  </thead>\n",
       "  <tbody>\n",
       "    <tr>\n",
       "      <th>0</th>\n",
       "      <td>1317.194020</td>\n",
       "      <td>1036.435432</td>\n",
       "      <td>1398.521875</td>\n",
       "      <td>809.265256</td>\n",
       "      <td>1376.255630</td>\n",
       "      <td>328.511973</td>\n",
       "      <td>1364.106124</td>\n",
       "      <td>-87.701172</td>\n",
       "    </tr>\n",
       "    <tr>\n",
       "      <th>1</th>\n",
       "      <td>612.007344</td>\n",
       "      <td>986.193263</td>\n",
       "      <td>591.995023</td>\n",
       "      <td>530.960723</td>\n",
       "      <td>506.090240</td>\n",
       "      <td>-888.382565</td>\n",
       "      <td>518.541588</td>\n",
       "      <td>-2701.254975</td>\n",
       "    </tr>\n",
       "    <tr>\n",
       "      <th>2</th>\n",
       "      <td>178.194409</td>\n",
       "      <td>955.285557</td>\n",
       "      <td>14.205211</td>\n",
       "      <td>325.269853</td>\n",
       "      <td>214.171454</td>\n",
       "      <td>-2003.537305</td>\n",
       "      <td>201.292960</td>\n",
       "      <td>-5536.130832</td>\n",
       "    </tr>\n",
       "    <tr>\n",
       "      <th>3</th>\n",
       "      <td>570.442105</td>\n",
       "      <td>983.231880</td>\n",
       "      <td>539.328470</td>\n",
       "      <td>512.390588</td>\n",
       "      <td>466.400396</td>\n",
       "      <td>-982.089857</td>\n",
       "      <td>479.561080</td>\n",
       "      <td>-2925.654918</td>\n",
       "    </tr>\n",
       "    <tr>\n",
       "      <th>4</th>\n",
       "      <td>765.861131</td>\n",
       "      <td>997.154826</td>\n",
       "      <td>781.972985</td>\n",
       "      <td>597.599750</td>\n",
       "      <td>669.261173</td>\n",
       "      <td>-564.239542</td>\n",
       "      <td>676.420799</td>\n",
       "      <td>-1947.517026</td>\n",
       "    </tr>\n",
       "    <tr>\n",
       "      <th>5</th>\n",
       "      <td>946.971949</td>\n",
       "      <td>1010.058360</td>\n",
       "      <td>995.584905</td>\n",
       "      <td>671.810709</td>\n",
       "      <td>887.224619</td>\n",
       "      <td>-226.542658</td>\n",
       "      <td>885.897938</td>\n",
       "      <td>-1202.959405</td>\n",
       "    </tr>\n",
       "    <tr>\n",
       "      <th>6</th>\n",
       "      <td>1337.810973</td>\n",
       "      <td>1037.904320</td>\n",
       "      <td>1419.629368</td>\n",
       "      <td>816.357459</td>\n",
       "      <td>1403.808599</td>\n",
       "      <td>354.477921</td>\n",
       "      <td>1391.593094</td>\n",
       "      <td>-39.449014</td>\n",
       "    </tr>\n",
       "    <tr>\n",
       "      <th>7</th>\n",
       "      <td>1551.540931</td>\n",
       "      <td>1053.131858</td>\n",
       "      <td>1630.169481</td>\n",
       "      <td>886.384612</td>\n",
       "      <td>1682.254217</td>\n",
       "      <td>595.527332</td>\n",
       "      <td>1673.294552</td>\n",
       "      <td>388.068882</td>\n",
       "    </tr>\n",
       "    <tr>\n",
       "      <th>8</th>\n",
       "      <td>2655.852160</td>\n",
       "      <td>1131.810304</td>\n",
       "      <td>2477.523851</td>\n",
       "      <td>1146.620790</td>\n",
       "      <td>2321.641842</td>\n",
       "      <td>1190.717780</td>\n",
       "      <td>2310.721258</td>\n",
       "      <td>1200.305022</td>\n",
       "    </tr>\n",
       "    <tr>\n",
       "      <th>9</th>\n",
       "      <td>2208.298477</td>\n",
       "      <td>1099.923615</td>\n",
       "      <td>2182.671705</td>\n",
       "      <td>1061.666825</td>\n",
       "      <td>2301.457098</td>\n",
       "      <td>1058.857257</td>\n",
       "      <td>2324.414287</td>\n",
       "      <td>1069.264094</td>\n",
       "    </tr>\n",
       "    <tr>\n",
       "      <th>10</th>\n",
       "      <td>1923.496051</td>\n",
       "      <td>1079.632404</td>\n",
       "      <td>1960.581391</td>\n",
       "      <td>993.049121</td>\n",
       "      <td>2095.547490</td>\n",
       "      <td>904.005909</td>\n",
       "      <td>2105.356936</td>\n",
       "      <td>868.703332</td>\n",
       "    </tr>\n",
       "    <tr>\n",
       "      <th>11</th>\n",
       "      <td>1604.786506</td>\n",
       "      <td>1056.925425</td>\n",
       "      <td>1680.271805</td>\n",
       "      <td>902.838050</td>\n",
       "      <td>1748.343271</td>\n",
       "      <td>647.945580</td>\n",
       "      <td>1741.255455</td>\n",
       "      <td>475.634411</td>\n",
       "    </tr>\n",
       "  </tbody>\n",
       "</table>\n",
       "</div>"
      ],
      "text/plain": [
       "       linear_x     linear_y  quadratic_x  quadratic_y      cubic_x  \\\n",
       "0   1317.194020  1036.435432  1398.521875   809.265256  1376.255630   \n",
       "1    612.007344   986.193263   591.995023   530.960723   506.090240   \n",
       "2    178.194409   955.285557    14.205211   325.269853   214.171454   \n",
       "3    570.442105   983.231880   539.328470   512.390588   466.400396   \n",
       "4    765.861131   997.154826   781.972985   597.599750   669.261173   \n",
       "5    946.971949  1010.058360   995.584905   671.810709   887.224619   \n",
       "6   1337.810973  1037.904320  1419.629368   816.357459  1403.808599   \n",
       "7   1551.540931  1053.131858  1630.169481   886.384612  1682.254217   \n",
       "8   2655.852160  1131.810304  2477.523851  1146.620790  2321.641842   \n",
       "9   2208.298477  1099.923615  2182.671705  1061.666825  2301.457098   \n",
       "10  1923.496051  1079.632404  1960.581391   993.049121  2095.547490   \n",
       "11  1604.786506  1056.925425  1680.271805   902.838050  1748.343271   \n",
       "\n",
       "        cubic_y    quartic_x    quartic_y  \n",
       "0    328.511973  1364.106124   -87.701172  \n",
       "1   -888.382565   518.541588 -2701.254975  \n",
       "2  -2003.537305   201.292960 -5536.130832  \n",
       "3   -982.089857   479.561080 -2925.654918  \n",
       "4   -564.239542   676.420799 -1947.517026  \n",
       "5   -226.542658   885.897938 -1202.959405  \n",
       "6    354.477921  1391.593094   -39.449014  \n",
       "7    595.527332  1673.294552   388.068882  \n",
       "8   1190.717780  2310.721258  1200.305022  \n",
       "9   1058.857257  2324.414287  1069.264094  \n",
       "10   904.005909  2105.356936   868.703332  \n",
       "11   647.945580  1741.255455   475.634411  "
      ]
     },
     "execution_count": 10,
     "metadata": {},
     "output_type": "execute_result"
    }
   ],
   "source": [
    "reconstructed_image_xy = pd.DataFrame(columns=['linear_x','linear_y','quadratic_x','quadratic_y',\n",
    "                                                'cubic_x','cubic_y','quartic_x','quartic_y'])\n",
    "reconstructed_image_xy['linear_x']    = image_x_reconstructed_1\n",
    "reconstructed_image_xy['linear_y']    = image_y_reconstructed_1\n",
    "reconstructed_image_xy['quadratic_x'] = image_x_reconstructed_2\n",
    "reconstructed_image_xy['quadratic_y'] = image_y_reconstructed_2\n",
    "reconstructed_image_xy['cubic_x']     = image_x_reconstructed_3\n",
    "reconstructed_image_xy['cubic_y']     = image_y_reconstructed_3\n",
    "reconstructed_image_xy['quartic_x']   = image_x_reconstructed_4\n",
    "reconstructed_image_xy['quartic_y']   = image_y_reconstructed_4\n",
    "\n",
    "reconstructed_image_xy"
   ]
  },
  {
   "cell_type": "code",
   "execution_count": 11,
   "id": "8d8a3f65-9eaf-436d-89e6-1e6077938f89",
   "metadata": {},
   "outputs": [],
   "source": [
    "# reconstructed_image_xy.to_csv(\"./reconstructed_image_xy.csv\",index=False)"
   ]
  },
  {
   "cell_type": "markdown",
   "id": "8168395f-b1bd-45b6-8116-e323935cd2ec",
   "metadata": {},
   "source": [
    "#### Compute Pearson correlation and MSE "
   ]
  },
  {
   "cell_type": "code",
   "execution_count": 12,
   "id": "7259b6e7-0b3e-4877-8b06-1f4747a29e80",
   "metadata": {},
   "outputs": [],
   "source": [
    "corr_coeff_x = []\n",
    "corr_coeff_y = []\n",
    "mse_x = []\n",
    "mse_y = []\n",
    "elapsed_time = []"
   ]
  },
  {
   "cell_type": "code",
   "execution_count": 13,
   "id": "28451e63-c706-4c33-bdf2-4fcfa91ace7e",
   "metadata": {},
   "outputs": [],
   "source": [
    "corr_coeff_x.append(np.corrcoef(image_x, image_x_reconstructed_1)[0, 1])\n",
    "corr_coeff_x.append(np.corrcoef(image_x, image_x_reconstructed_2)[0, 1])\n",
    "corr_coeff_x.append(np.corrcoef(image_x, image_x_reconstructed_3)[0, 1])\n",
    "corr_coeff_x.append(np.corrcoef(image_x, image_x_reconstructed_4)[0, 1])"
   ]
  },
  {
   "cell_type": "code",
   "execution_count": 14,
   "id": "c2e4e6ce-e9e5-43a2-aea9-b585caa0abe4",
   "metadata": {},
   "outputs": [],
   "source": [
    "corr_coeff_y.append(np.corrcoef(image_y, image_y_reconstructed_1)[0, 1])\n",
    "corr_coeff_y.append(np.corrcoef(image_y, image_y_reconstructed_2)[0, 1])\n",
    "corr_coeff_y.append(np.corrcoef(image_y, image_y_reconstructed_3)[0, 1])\n",
    "corr_coeff_y.append(np.corrcoef(image_y, image_y_reconstructed_4)[0, 1])"
   ]
  },
  {
   "cell_type": "code",
   "execution_count": 15,
   "id": "d5f485cf-48ea-4817-a4a6-65c9cf1d29e2",
   "metadata": {},
   "outputs": [],
   "source": [
    "mse_x.append(mean_squared_error(image_x,image_x_reconstructed_1))\n",
    "mse_x.append(mean_squared_error(image_x,image_x_reconstructed_2))\n",
    "mse_x.append(mean_squared_error(image_x,image_x_reconstructed_3))\n",
    "mse_x.append(mean_squared_error(image_x,image_x_reconstructed_4))"
   ]
  },
  {
   "cell_type": "code",
   "execution_count": 16,
   "id": "21cb0456-760e-4958-a7a5-795e363af936",
   "metadata": {},
   "outputs": [],
   "source": [
    "mse_y.append(mean_squared_error(image_y,image_y_reconstructed_1))\n",
    "mse_y.append(mean_squared_error(image_y,image_y_reconstructed_2))\n",
    "mse_y.append(mean_squared_error(image_y,image_y_reconstructed_3))\n",
    "mse_y.append(mean_squared_error(image_y,image_y_reconstructed_4))"
   ]
  },
  {
   "cell_type": "code",
   "execution_count": 17,
   "id": "b2022c87-c99d-4b75-b754-5f29f6daa1d3",
   "metadata": {},
   "outputs": [],
   "source": [
    "elapsed_time.append(elapsed_time_linear)\n",
    "elapsed_time.append(elapsed_time_quad)\n",
    "elapsed_time.append(elapsed_time_cubic)\n",
    "elapsed_time.append(elapsed_time_quar)"
   ]
  },
  {
   "cell_type": "code",
   "execution_count": 18,
   "id": "8d655696-432b-4e40-a1b9-d118b09e8f64",
   "metadata": {},
   "outputs": [
    {
     "data": {
      "text/html": [
       "<div>\n",
       "<style scoped>\n",
       "    .dataframe tbody tr th:only-of-type {\n",
       "        vertical-align: middle;\n",
       "    }\n",
       "\n",
       "    .dataframe tbody tr th {\n",
       "        vertical-align: top;\n",
       "    }\n",
       "\n",
       "    .dataframe thead th {\n",
       "        text-align: right;\n",
       "    }\n",
       "</style>\n",
       "<table border=\"1\" class=\"dataframe\">\n",
       "  <thead>\n",
       "    <tr style=\"text-align: right;\">\n",
       "      <th></th>\n",
       "      <th>methods</th>\n",
       "      <th>corr_coef_x</th>\n",
       "      <th>corr_coef_y</th>\n",
       "      <th>mse_x</th>\n",
       "      <th>mse_y</th>\n",
       "      <th>elapsed_time(s)</th>\n",
       "    </tr>\n",
       "  </thead>\n",
       "  <tbody>\n",
       "    <tr>\n",
       "      <th>0</th>\n",
       "      <td>Linear</td>\n",
       "      <td>0.960417</td>\n",
       "      <td>0.780581</td>\n",
       "      <td>41247.053824</td>\n",
       "      <td>3.829727e+04</td>\n",
       "      <td>0.003598</td>\n",
       "    </tr>\n",
       "    <tr>\n",
       "      <th>1</th>\n",
       "      <td>Quadratic</td>\n",
       "      <td>0.967727</td>\n",
       "      <td>0.707029</td>\n",
       "      <td>33754.903120</td>\n",
       "      <td>1.942071e+05</td>\n",
       "      <td>0.002332</td>\n",
       "    </tr>\n",
       "    <tr>\n",
       "      <th>2</th>\n",
       "      <td>Cubic</td>\n",
       "      <td>0.979150</td>\n",
       "      <td>0.600644</td>\n",
       "      <td>21934.222496</td>\n",
       "      <td>2.022326e+06</td>\n",
       "      <td>0.004657</td>\n",
       "    </tr>\n",
       "    <tr>\n",
       "      <th>3</th>\n",
       "      <td>Quartic</td>\n",
       "      <td>0.979287</td>\n",
       "      <td>0.522365</td>\n",
       "      <td>21791.142097</td>\n",
       "      <td>7.745182e+06</td>\n",
       "      <td>0.004316</td>\n",
       "    </tr>\n",
       "  </tbody>\n",
       "</table>\n",
       "</div>"
      ],
      "text/plain": [
       "     methods  corr_coef_x  corr_coef_y         mse_x         mse_y  \\\n",
       "0     Linear     0.960417     0.780581  41247.053824  3.829727e+04   \n",
       "1  Quadratic     0.967727     0.707029  33754.903120  1.942071e+05   \n",
       "2      Cubic     0.979150     0.600644  21934.222496  2.022326e+06   \n",
       "3    Quartic     0.979287     0.522365  21791.142097  7.745182e+06   \n",
       "\n",
       "   elapsed_time(s)  \n",
       "0         0.003598  \n",
       "1         0.002332  \n",
       "2         0.004657  \n",
       "3         0.004316  "
      ]
     },
     "execution_count": 18,
     "metadata": {},
     "output_type": "execute_result"
    }
   ],
   "source": [
    "ls_performance = pd.DataFrame(columns=['methods','corr_coef_x','corr_coef_y','mse_x','mse_y','elapsed_time(s)'])\n",
    "ls_performance['methods'] = ['Linear','Quadratic','Cubic','Quartic']\n",
    "ls_performance['corr_coef_x'] = corr_coeff_x\n",
    "ls_performance['corr_coef_y'] = corr_coeff_y\n",
    "ls_performance['mse_x'] = mse_x\n",
    "ls_performance['mse_y'] = mse_y\n",
    "ls_performance['elapsed_time(s)'] = elapsed_time\n",
    "ls_performance"
   ]
  },
  {
   "cell_type": "code",
   "execution_count": null,
   "id": "87213e8c-e65e-4751-bb1b-2cd8e00bac69",
   "metadata": {},
   "outputs": [],
   "source": []
  }
 ],
 "metadata": {
  "kernelspec": {
   "display_name": "Python 3 (ipykernel)",
   "language": "python",
   "name": "python3"
  },
  "language_info": {
   "codemirror_mode": {
    "name": "ipython",
    "version": 3
   },
   "file_extension": ".py",
   "mimetype": "text/x-python",
   "name": "python",
   "nbconvert_exporter": "python",
   "pygments_lexer": "ipython3",
   "version": "3.10.12"
  }
 },
 "nbformat": 4,
 "nbformat_minor": 5
}
