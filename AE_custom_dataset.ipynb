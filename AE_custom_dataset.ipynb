{
 "cells": [
  {
   "cell_type": "code",
   "execution_count": 1,
   "id": "6d8bb78e-f1b6-4bbf-b996-6a81faae4b44",
   "metadata": {},
   "outputs": [],
   "source": [
    "import torch\n",
    "from torch.utils.data import TensorDataset, DataLoader, random_split\n",
    "import matplotlib.pyplot as plt\n",
    "import numpy as np\n",
    "import pandas as pd\n",
    "import time"
   ]
  },
  {
   "cell_type": "markdown",
   "id": "91b60a0d-8337-472d-b487-e7414fd553d7",
   "metadata": {},
   "source": [
    "### Read RADAR and image x,y coordinates from csv file"
   ]
  },
  {
   "cell_type": "code",
   "execution_count": 2,
   "id": "565f9f0b-b631-497e-a50b-76c2de50cbcd",
   "metadata": {},
   "outputs": [],
   "source": [
    "image_xy = pd.read_csv('./image_xy.csv')\n",
    "radar_xy = pd.read_csv('./radar_xy.csv')"
   ]
  },
  {
   "cell_type": "code",
   "execution_count": 3,
   "id": "7a4f7220-00f1-4949-960a-cfdd89ea2556",
   "metadata": {},
   "outputs": [],
   "source": [
    "radar_x = radar_xy['x'].values\n",
    "radar_y = radar_xy['y'].values\n",
    "image_x = image_xy['x'].values\n",
    "image_y = image_xy['y'].values"
   ]
  },
  {
   "cell_type": "markdown",
   "id": "074a704f-92b5-4f00-8b9e-f8dd9c44f97c",
   "metadata": {},
   "source": [
    "### Split the data to train and test dataset "
   ]
  },
  {
   "cell_type": "code",
   "execution_count": 4,
   "id": "210b40cb-5974-4393-8eeb-6c9494309c90",
   "metadata": {},
   "outputs": [],
   "source": [
    "radar_data = [[x,y] for x,y in zip(radar_x,radar_y)]\n",
    "# radar_data"
   ]
  },
  {
   "cell_type": "code",
   "execution_count": 5,
   "id": "e1df6ac1-84dd-42d3-9794-33576350b989",
   "metadata": {},
   "outputs": [],
   "source": [
    "image_data = [[x,y] for x,y in zip(image_x,image_y)]"
   ]
  },
  {
   "cell_type": "code",
   "execution_count": 6,
   "id": "9c776f22-5ed1-4c85-bba0-9b3740a6fbbd",
   "metadata": {},
   "outputs": [],
   "source": [
    "radar_data = np.array(radar_data)\n",
    "image_data = np.array(image_data)\n",
    "\n",
    "radar_data_tensor = torch.Tensor(radar_data) # transform to torch tensor\n",
    "image_data_tensor = torch.Tensor(image_data)\n",
    "\n",
    "dataset = TensorDataset(radar_data_tensor,image_data_tensor) # create your datset\n",
    "dataloader = DataLoader(dataset) # create your dataloader"
   ]
  },
  {
   "cell_type": "code",
   "execution_count": 7,
   "id": "e9290c69-75fd-4c11-a6bb-ca3acee4ff8b",
   "metadata": {},
   "outputs": [],
   "source": [
    "train_size = int(0.8 * len(dataset))\n",
    "test_size = len(dataset) - train_size\n",
    "train_dataset, test_dataset = random_split(dataset, [train_size, test_size])"
   ]
  },
  {
   "cell_type": "code",
   "execution_count": 8,
   "id": "f97dce6d-9328-4882-be32-0bddfd12096e",
   "metadata": {},
   "outputs": [
    {
     "data": {
      "text/plain": [
       "(12, 9, 3)"
      ]
     },
     "execution_count": 8,
     "metadata": {},
     "output_type": "execute_result"
    }
   ],
   "source": [
    "train_loader = DataLoader(train_dataset)\n",
    "test_loader = DataLoader(test_dataset)\n",
    "len(dataset),len(train_loader),len(test_loader)"
   ]
  },
  {
   "cell_type": "markdown",
   "id": "e6eb87c3-eba1-4243-b8bd-91f499fc742a",
   "metadata": {},
   "source": [
    "#### Define the autoencoder"
   ]
  },
  {
   "cell_type": "code",
   "execution_count": 9,
   "id": "8e458c32-2d4b-49c1-aac9-12c0d686e8fb",
   "metadata": {},
   "outputs": [],
   "source": [
    "class AE(torch.nn.Module):\n",
    "\tdef __init__(self):\n",
    "\t\tsuper().__init__()\n",
    "\t\t\n",
    "\t\t# Building an linear encoder with Linear\n",
    "\t\t# layer followed by Relu activation function\n",
    "\t\t# 784 ==> 9\n",
    "\t\tself.encoder = torch.nn.Sequential(\n",
    "\t\t\ttorch.nn.Linear(2,1),\n",
    "\t\t\ttorch.nn.ReLU(),\n",
    "\t\t\ttorch.nn.Linear(1,64),\n",
    "\t\t\ttorch.nn.ReLU(),\n",
    "\t\t\ttorch.nn.Linear(64,36),\n",
    "\t\t\ttorch.nn.ReLU(),\n",
    "\t\t\ttorch.nn.Linear(36,18),\n",
    "\t\t\ttorch.nn.ReLU(),\n",
    "\t\t\ttorch.nn.Linear(18,80)\n",
    "\t\t)\n",
    "\t\t\n",
    "\t\t# Building an linear decoder with Linear\n",
    "\t\t# layer followed by Relu activation function\n",
    "\t\t# The Sigmoid activation function\n",
    "\t\t# outputs the value between 0 and 1\n",
    "\t\t# 9 ==> 784\n",
    "\t\tself.decoder = torch.nn.Sequential(\n",
    "\t\t\ttorch.nn.Linear(80,18),\n",
    "\t\t\ttorch.nn.ReLU(),\n",
    "\t\t\ttorch.nn.Linear(18,36),\n",
    "\t\t\ttorch.nn.ReLU(),\n",
    "\t\t\ttorch.nn.Linear(36,16),\n",
    "\t\t\ttorch.nn.ReLU(),\n",
    "\t\t\ttorch.nn.Linear(16,2),\n",
    "\t\t\ttorch.nn.ReLU(),\n",
    "\t\t\ttorch.nn.Linear(2,2)\n",
    "\t\t\t# torch.nn.Sigmoid()\n",
    "\t\t)\n",
    "\n",
    "\tdef forward(self, x):\n",
    "\t\tencoded = self.encoder(x)\n",
    "\t\tdecoded = self.decoder(encoded)\n",
    "\t\treturn decoded"
   ]
  },
  {
   "cell_type": "code",
   "execution_count": 10,
   "id": "3ce323f8-4865-4b89-ad62-188a81f93cc0",
   "metadata": {},
   "outputs": [],
   "source": [
    "# Model Initialization\n",
    "model = AE()\n",
    "\n",
    "# Validation using MSE Loss function\n",
    "# loss_function = torch.nn.MSELoss() \n",
    "loss_function = torch.nn.CrossEntropyLoss()\n",
    "\n",
    "# Using an Adam Optimizer with lr = 0.1\n",
    "optimizer = torch.optim.Adam(model.parameters(),\n",
    "\t\t\t\t\t\t\tlr = 1e-1,\n",
    "\t\t\t\t\t\t\tweight_decay = 1e-8)"
   ]
  },
  {
   "cell_type": "code",
   "execution_count": null,
   "id": "7c0c0c7d-8ab1-48a5-b10a-7b5b5ace4730",
   "metadata": {},
   "outputs": [],
   "source": []
  },
  {
   "cell_type": "code",
   "execution_count": null,
   "id": "50ced65c-23a8-4fbd-a9f3-27f568bb96ba",
   "metadata": {},
   "outputs": [],
   "source": []
  },
  {
   "cell_type": "code",
   "execution_count": 11,
   "id": "6f6c3a16-b964-43d7-957d-e6bda4b7c92e",
   "metadata": {},
   "outputs": [
    {
     "name": "stdout",
     "output_type": "stream",
     "text": [
      "Epoch:0 Frames:9 Training loss:1396.73193359375\n",
      "Epoch:0 Frames:3 Testing loss:2553.39453125\n",
      "Epoch:1 Frames:9 Training loss:1396.73193359375\n",
      "Epoch:1 Frames:3 Testing loss:2553.39453125\n",
      "Epoch:2 Frames:9 Training loss:1396.73193359375\n",
      "Epoch:2 Frames:3 Testing loss:2553.39453125\n",
      "Epoch:3 Frames:9 Training loss:1396.73193359375\n",
      "Epoch:3 Frames:3 Testing loss:2553.39453125\n",
      "Epoch:4 Frames:9 Training loss:1396.73193359375\n",
      "Epoch:4 Frames:3 Testing loss:2553.39453125\n",
      "Epoch:5 Frames:9 Training loss:1396.73193359375\n",
      "Epoch:5 Frames:3 Testing loss:2553.39453125\n",
      "Epoch:6 Frames:9 Training loss:1396.73193359375\n",
      "Epoch:6 Frames:3 Testing loss:2553.39453125\n",
      "Epoch:7 Frames:9 Training loss:1396.73193359375\n",
      "Epoch:7 Frames:3 Testing loss:2553.39453125\n",
      "Epoch:8 Frames:9 Training loss:1396.73193359375\n",
      "Epoch:8 Frames:3 Testing loss:2553.39453125\n",
      "Epoch:9 Frames:9 Training loss:1396.73193359375\n",
      "Epoch:9 Frames:3 Testing loss:2553.39453125\n",
      "Epoch:10 Frames:9 Training loss:1396.73193359375\n",
      "Epoch:10 Frames:3 Testing loss:2553.39453125\n",
      "Epoch:11 Frames:9 Training loss:1396.73193359375\n",
      "Epoch:11 Frames:3 Testing loss:2553.39453125\n",
      "Epoch:12 Frames:9 Training loss:1396.73193359375\n",
      "Epoch:12 Frames:3 Testing loss:2553.39453125\n",
      "Epoch:13 Frames:9 Training loss:1396.73193359375\n",
      "Epoch:13 Frames:3 Testing loss:2553.39453125\n",
      "Epoch:14 Frames:9 Training loss:1396.73193359375\n",
      "Epoch:14 Frames:3 Testing loss:2553.39453125\n",
      "Epoch:15 Frames:9 Training loss:1396.73193359375\n",
      "Epoch:15 Frames:3 Testing loss:2553.39453125\n",
      "Epoch:16 Frames:9 Training loss:1396.73193359375\n",
      "Epoch:16 Frames:3 Testing loss:2553.39453125\n",
      "Epoch:17 Frames:9 Training loss:1396.73193359375\n",
      "Epoch:17 Frames:3 Testing loss:2553.39453125\n",
      "Epoch:18 Frames:9 Training loss:1396.73193359375\n",
      "Epoch:18 Frames:3 Testing loss:2553.39453125\n",
      "Epoch:19 Frames:9 Training loss:1396.73193359375\n",
      "Epoch:19 Frames:3 Testing loss:2553.39453125\n"
     ]
    }
   ],
   "source": [
    "epochs = 20\n",
    "train_losses = []\n",
    "test_losses = []\n",
    "inference_time = []\n",
    "training_time = []\n",
    "for epoch in range(epochs):\n",
    "    ## Train model\n",
    "    i = 0\n",
    "    train_loss = 0\n",
    "    model.train()\n",
    "    start_train = time.perf_counter()\n",
    "    for (radar_xy,image_xy) in train_loader:\n",
    "        # Output of Autoencoder\n",
    "        reconstructed = model(radar_xy)\n",
    "        # Calculating the loss function\n",
    "        loss = loss_function(reconstructed, image_xy)\n",
    "        # The gradients are set to zero,\n",
    "        # the gradient is computed and stored.\n",
    "        # .step() performs parameter update\n",
    "        loss.backward()\n",
    "        optimizer.zero_grad()\n",
    "        optimizer.step()\n",
    "        i += 1\n",
    "        train_loss += loss.detach().numpy()\n",
    "    end_train = time.perf_counter()\n",
    "    training_time.append(end_train-start_train)\n",
    "    print(f\"Epoch:{epoch} Frames:{i} Training loss:{loss}\")\n",
    "    train_losses.append(train_loss)\n",
    "    ## Test model\n",
    "    model.eval()\n",
    "    i = 0\n",
    "    test_loss = 0\n",
    "    with torch.no_grad():\n",
    "        for (radar_xy,image_xy) in test_loader:\n",
    "            start = time.perf_counter()\n",
    "            reconstructed = model(radar_xy)\n",
    "            end = time.perf_counter()\n",
    "            inference_time.append(end-start)\n",
    "            loss = loss_function(reconstructed, image_xy)\n",
    "            i += 1\n",
    "            test_loss += loss.detach().numpy()\n",
    "        print(f\"Epoch:{epoch} Frames:{i} Testing loss:{loss}\")\n",
    "        test_losses.append(test_loss)"
   ]
  },
  {
   "cell_type": "markdown",
   "id": "e927d1a8-3c62-40fa-946f-6bb28328b978",
   "metadata": {},
   "source": [
    "#### Plot the training and testing loss"
   ]
  },
  {
   "cell_type": "code",
   "execution_count": 12,
   "id": "d4168953-1a25-4218-adf6-4274e0bbc34d",
   "metadata": {},
   "outputs": [
    {
     "data": {
      "image/png": "[encoded data removed]",
      "text/plain": [
       "<Figure size 1000x500 with 1 Axes>"
      ]
     },
     "metadata": {},
     "output_type": "display_data"
    }
   ],
   "source": [
    "plt.figure(figsize=(10,5))\n",
    "plt.plot(train_losses)\n",
    "plt.grid()\n",
    "plt.xlabel(\"Epochs\")\n",
    "plt.ylabel(\"Training loss (Cross entropy)\")\n",
    "plt.xticks(np.arange(epochs))\n",
    "plt.show()"
   ]
  },
  {
   "cell_type": "code",
   "execution_count": 13,
   "id": "2683380d-ea29-4ee5-bdd1-46ef4a039fb2",
   "metadata": {},
   "outputs": [
    {
     "data": {
      "image/png": "[encoded data removed]",
      "text/plain": [
       "<Figure size 1000x500 with 1 Axes>"
      ]
     },
     "metadata": {},
     "output_type": "display_data"
    }
   ],
   "source": [
    "plt.figure(figsize=(10,5))\n",
    "plt.plot(test_losses)\n",
    "plt.grid()\n",
    "plt.xlabel(\"Epochs\")\n",
    "plt.ylabel(\"Testing loss (Cross entropy)\")\n",
    "plt.xticks(np.arange(epochs))\n",
    "plt.show()"
   ]
  },
  {
   "cell_type": "code",
   "execution_count": 14,
   "id": "adb6b3c3-e286-43f6-8b52-8741448fd524",
   "metadata": {},
   "outputs": [
    {
     "data": {
      "text/plain": [
       "0.00012703271543917555"
      ]
     },
     "execution_count": 14,
     "metadata": {},
     "output_type": "execute_result"
    }
   ],
   "source": [
    "### Average inference time \n",
    "np.mean(inference_time)"
   ]
  },
  {
   "cell_type": "code",
   "execution_count": 15,
   "id": "36be2b26-1a38-4ab7-a51f-53ffca021332",
   "metadata": {},
   "outputs": [
    {
     "data": {
      "text/plain": [
       "0.0075237566430587325"
      ]
     },
     "execution_count": 15,
     "metadata": {},
     "output_type": "execute_result"
    }
   ],
   "source": [
    "### Average training time per epoch \n",
    "np.mean(training_time)"
   ]
  },
  {
   "cell_type": "code",
   "execution_count": null,
   "id": "a05533af-f71d-4edb-b4bf-49332fbb45cc",
   "metadata": {},
   "outputs": [],
   "source": []
  },
  {
   "cell_type": "code",
   "execution_count": null,
   "id": "944e72c4-7770-428f-8662-ebd8aa80dbb4",
   "metadata": {},
   "outputs": [],
   "source": []
  },
  {
   "cell_type": "code",
   "execution_count": null,
   "id": "ad27970c-370f-435a-99fd-897397575334",
   "metadata": {},
   "outputs": [],
   "source": []
  }
 ],
 "metadata": {
  "kernelspec": {
   "display_name": "Python 3 (ipykernel)",
   "language": "python",
   "name": "python3"
  },
  "language_info": {
   "codemirror_mode": {
    "name": "ipython",
    "version": 3
   },
   "file_extension": ".py",
   "mimetype": "text/x-python",
   "name": "python",
   "nbconvert_exporter": "python",
   "pygments_lexer": "ipython3",
   "version": "3.10.12"
  }
 },
 "nbformat": 4,
 "nbformat_minor": 5
}
